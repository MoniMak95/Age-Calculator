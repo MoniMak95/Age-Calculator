{
 "cells": [
  {
   "cell_type": "code",
   "execution_count": null,
   "id": "f4d85d4c",
   "metadata": {},
   "outputs": [
    {
     "name": "stdout",
     "output_type": "stream",
     "text": [
      "{'Enter your Birth Year'}1995\n"
     ]
    }
   ],
   "source": [
    "Year=int(input({\"Enter your Birth Year\"}))\n",
    "Month=int(input({\"Enter your Birth Month\"}))\n",
    "Date=int(input({\"Enter your Birth Date\"}))\n",
    "\n",
    "def AgeCalculator(y,m,d):\n",
    "    import datetime\n",
    "    today=datetime.datetime.now().date()\n",
    "    DOB=datetime.date(y,m,d)\n",
    "    Age=int((today-dob).days/365.25)\n",
    "    print(Age)\n",
    "    \n",
    "AgeCalculator(Year,Month,Date)"
   ]
  },
  {
   "cell_type": "code",
   "execution_count": null,
   "id": "2850d033",
   "metadata": {},
   "outputs": [],
   "source": []
  }
 ],
 "metadata": {
  "kernelspec": {
   "display_name": "Python 3",
   "language": "python",
   "name": "python3"
  },
  "language_info": {
   "codemirror_mode": {
    "name": "ipython",
    "version": 3
   },
   "file_extension": ".py",
   "mimetype": "text/x-python",
   "name": "python",
   "nbconvert_exporter": "python",
   "pygments_lexer": "ipython3",
   "version": "3.8.8"
  }
 },
 "nbformat": 4,
 "nbformat_minor": 5
}
